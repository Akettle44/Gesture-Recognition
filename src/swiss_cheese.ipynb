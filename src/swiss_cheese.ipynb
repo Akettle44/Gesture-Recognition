{
 "cells": [
  {
   "cell_type": "code",
   "execution_count": null,
   "metadata": {},
   "outputs": [],
   "source": [
    "import cv2\n",
    "import numpy as np\n",
    "import tensorflow as tf\n",
    "import mediapipe as mp\n",
    "\n",
    "DEMO_LENGTH = 10"
   ]
  },
  {
   "cell_type": "code",
   "execution_count": 2,
   "metadata": {},
   "outputs": [],
   "source": [
    "#test script for grabbing webcam frames\n",
    "\n",
    "cap = cv2.VideoCapture(0)\n",
    "\n",
    "for i in range(0, 100):\n",
    "\tres, frame = cap.read()\n",
    "\tif res:\n",
    "\t\tcv2.imshow(\"frame\", frame)\n",
    "\t\tcv2.waitKey(1)\n",
    "\telse:\n",
    "\t\tprint(\"Couldn't grab frame\\n\")\n",
    "\n",
    "cv2.destroyAllWindows()\n",
    "cap.release()"
   ]
  },
  {
   "cell_type": "code",
   "execution_count": null,
   "metadata": {},
   "outputs": [],
   "source": [
    "model_name = 'hand_landmark.tflite'\n",
    "hand_model = tf.lite(model_name)"
   ]
  },
  {
   "cell_type": "code",
   "execution_count": null,
   "metadata": {},
   "outputs": [],
   "source": [
    "# Setup Google Hands API and initialize the video stream\n",
    "\n",
    "# initialize video stream \n",
    "cap = cv2.VideoCaputre(0) #Note, you need a webcam to be plugged in\n",
    "\n",
    "# setup google hands api\n",
    "mp_hands = mp.solutions.hands\n",
    "hands = mp_hands.Hands(max_num_hands=1, min_detection_confidence=0.75, min_tracking_confidence=0.75)\n",
    "mp_drawing = mp.solutions.drawing_utils\n",
    "mp_drawing_styles = mp.solutions.drawing_styles"
   ]
  },
  {
   "cell_type": "code",
   "execution_count": null,
   "metadata": {},
   "outputs": [],
   "source": [
    "# Main running loop\n",
    "\n",
    "for i in range(0, DEMO_LENGTH):\n",
    "\tres, frame = cap.read()\n",
    "\tif not res:\n",
    "\t\tprint(\"Coulnd't grab frame, continuing to next iteration\")\n",
    "\telse:\n",
    "\t\t# Flip across y axis, required as per documentation\n",
    "\t\tframe = cv2.flip(frame, 1)\n",
    "\t\t# Convert to RGB (opencv is natively BGR)\n",
    "\t\tframe = cv2.cvtColor(frame, cv2.BGR2RGB)\n",
    "\t\t# Make NN call \n",
    "\t\tresults = hands.process(frame)\n",
    "\t\t# Perform Inference\n"
   ]
  }
 ],
 "metadata": {
  "interpreter": {
   "hash": "206102e69224c96e9fd053363bcd946a13bd8060a8dfae2527b20a4038ed59bb"
  },
  "kernelspec": {
   "display_name": "Python 3.6.9 64-bit ('env': venv)",
   "name": "python3"
  },
  "language_info": {
   "codemirror_mode": {
    "name": "ipython",
    "version": 3
   },
   "file_extension": ".py",
   "mimetype": "text/x-python",
   "name": "python",
   "nbconvert_exporter": "python",
   "pygments_lexer": "ipython3",
   "version": "3.6.9"
  },
  "orig_nbformat": 4
 },
 "nbformat": 4,
 "nbformat_minor": 2
}
