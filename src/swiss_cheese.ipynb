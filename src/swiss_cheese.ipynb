{
 "cells": [
  {
   "cell_type": "code",
   "execution_count": 1,
   "metadata": {},
   "outputs": [],
   "source": [
    "import cv2\n",
    "import numpy as np\n",
    "import tensorflow as tf\n",
    "import mediapipe as mp\n",
    "import pandas as pd\n",
    "import os\n",
    "\n",
    "DEMO_LENGTH = 10000"
   ]
  },
  {
   "cell_type": "code",
   "execution_count": 2,
   "metadata": {},
   "outputs": [],
   "source": [
    "#test script for grabbing webcam frames\n",
    "\n",
    "cap = cv2.VideoCapture(0)\n",
    "\n",
    "for i in range(0, 100):\n",
    "\tres, frame = cap.read()\n",
    "\tif res:\n",
    "\t\tcv2.imshow(\"frame\", frame)\n",
    "\t\tcv2.waitKey(1)\n",
    "\telse:\n",
    "\t\tprint(\"Couldn't grab frame\\n\")\n",
    "\n",
    "cv2.destroyAllWindows()\n",
    "cap.release()"
   ]
  },
  {
   "cell_type": "code",
   "execution_count": 2,
   "metadata": {},
   "outputs": [
    {
     "name": "stderr",
     "output_type": "stream",
     "text": [
      "INFO: Created TensorFlow Lite XNNPACK delegate for CPU.\n"
     ]
    }
   ],
   "source": [
    "# Setup Google Hands API and initialize the video stream\n",
    "\n",
    "# initialize video stream \n",
    "cap = cv2.VideoCapture(0) #Note, you need a webcam to be plugged in\n",
    "\n",
    "# setup google hands api\n",
    "mp_hands = mp.solutions.hands\n",
    "hands = mp_hands.Hands(max_num_hands=1, min_detection_confidence=0.75, min_tracking_confidence=0.75)\n",
    "mp_drawing = mp.solutions.drawing_utils\n",
    "mp_drawing_styles = mp.solutions.drawing_styles"
   ]
  },
  {
   "cell_type": "code",
   "execution_count": 3,
   "metadata": {},
   "outputs": [],
   "source": [
    "# Helper function for drawing the landmarks on the screen\n",
    "\n",
    "def drawHands(results, image):\n",
    "\timage = cv2.cvtColor(image, cv2.COLOR_RGB2BGR)\n",
    "\tif results.multi_hand_landmarks:\n",
    "\t\tfor hand_landmarks in results.multi_hand_landmarks:\n",
    "\t\t\tmp_drawing.draw_landmarks(\n",
    "\t\t\t\timage,\n",
    "\t\t\t\thand_landmarks,\n",
    "\t\t\t\tmp_hands.HAND_CONNECTIONS,\n",
    "\t\t\t\tmp_drawing_styles.get_default_hand_landmarks_style(),\n",
    "\t\t\t\tmp_drawing_styles.get_default_hand_connections_style())\n",
    "\n",
    "\t\tretval = 0\n",
    "\telse:\n",
    "\t\tretval = -1\n",
    "\n",
    "\treturn retval, image\n",
    "\t\t\n",
    "\n"
   ]
  },
  {
   "cell_type": "code",
   "execution_count": null,
   "metadata": {},
   "outputs": [],
   "source": [
    "# Demo of capturing landmarks\n",
    "\n",
    "for i in range(0, DEMO_LENGTH):\n",
    "\tres, frame = cap.read()\n",
    "\tif not res:\n",
    "\t\tprint(\"Couldn't grab frame, continuing to next iteration\")\n",
    "\telse:\n",
    "\t\t# Convert to RGB (opencv is natively BGR)\n",
    "\t\tframe = cv2.cvtColor(frame, cv2.COLOR_BGR2RGB)\n",
    "\t\t# Get hand landmarks \n",
    "\t\tresults = hands.process(frame)\n",
    "\t\t# Show landmarks superimposed on hand\n",
    "\t\tstat, image = drawHands(results, frame)\n",
    "\t\tif stat != 0:\n",
    "\t\t\tprint(\"Couldn't draw landmarks on image\")\n",
    "\t\telse:\n",
    "\t\t\tcv2.imshow(\"Landmarks\", cv2.flip(image, 1))\n",
    "\t\t\tif cv2.waitKey(5) & 0xFF == 27:\n",
    "\t\t\t\t# Exit demo\n",
    "\t\t\t\tbreak\n"
   ]
  }
 ],
 "metadata": {
  "interpreter": {
   "hash": "75074364eeccacbc1419af69b995c7da782b829a2c4dcc5281dcf4acc66d3fe6"
  },
  "kernelspec": {
   "display_name": "Python 3.9.7 64-bit ('swiss': venv)",
   "name": "python3"
  },
  "language_info": {
   "codemirror_mode": {
    "name": "ipython",
    "version": 3
   },
   "file_extension": ".py",
   "mimetype": "text/x-python",
   "name": "python",
   "nbconvert_exporter": "python",
   "pygments_lexer": "ipython3",
   "version": "3.9.7"
  },
  "orig_nbformat": 4
 },
 "nbformat": 4,
 "nbformat_minor": 2
}
